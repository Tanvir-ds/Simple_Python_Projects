{
 "cells": [
  {
   "cell_type": "code",
   "execution_count": 1,
   "metadata": {},
   "outputs": [
    {
     "name": "stdout",
     "output_type": "stream",
     "text": [
      "This is a guess number game...\n",
      "End of the range: 3\n",
      "Enter a guess number: 2\n",
      "You have entered above the random number.The random number is 1\n",
      "Enter a guess number: 3\n",
      "You have entered above the random number.The random number is 2\n",
      "Enter a guess number: 4\n",
      "You have entered above the random number.The random number is 3\n",
      "Enter a guess number: 2\n",
      "You have got right number.The random number is 2.\n",
      "You have got in 4 guesses...\n"
     ]
    }
   ],
   "source": [
    "import random\n",
    "print(\"This is a guess number game...\")\n",
    "top_of_range = input(\"End of the range: \")\n",
    "if top_of_range.isdigit():\n",
    "    top_of_range = int(top_of_range)\n",
    "    if top_of_range < 0:\n",
    "        print(\"Please!Enter a number equal or grater than 0.Bye...\")\n",
    "        quet()\n",
    "else:\n",
    "    print(\"Please!Enter a number next time.Bye...\")\n",
    "    quet()\n",
    "    \n",
    "\n",
    "guesses = 0\n",
    "\n",
    "while True:\n",
    "    guesses += 1\n",
    "    guess_number = input(\"Enter a guess number: \")\n",
    "    random_number = random.randint(0,top_of_range)\n",
    "    \n",
    "    if guess_number.isdigit():\n",
    "        guess_number = int(guess_number)\n",
    "    else:\n",
    "        print(\"Please!Enter a number next time...\")\n",
    "        continue\n",
    "        \n",
    "    if guess_number == random_number:\n",
    "        print(f\"You have got right number.The random number is {random_number}.\")\n",
    "        break\n",
    "    elif guess_number > random_number:\n",
    "        print(f\"You have entered above the random number.The random number is {random_number}\")\n",
    "    else:\n",
    "        print(f\"You have entered bellow the random number.The random number is {random_number}\")\n",
    "        \n",
    "print(f\"You have got in {guesses} guesses...\")"
   ]
  },
  {
   "cell_type": "markdown",
   "metadata": {},
   "source": [
    " "
   ]
  }
 ],
 "metadata": {
  "kernelspec": {
   "display_name": "Python 3",
   "language": "python",
   "name": "python3"
  },
  "language_info": {
   "codemirror_mode": {
    "name": "ipython",
    "version": 3
   },
   "file_extension": ".py",
   "mimetype": "text/x-python",
   "name": "python",
   "nbconvert_exporter": "python",
   "pygments_lexer": "ipython3",
   "version": "3.8.5"
  }
 },
 "nbformat": 4,
 "nbformat_minor": 4
}
