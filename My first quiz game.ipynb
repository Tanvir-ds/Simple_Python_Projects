{
 "cells": [
  {
   "cell_type": "code",
   "execution_count": 1,
   "metadata": {},
   "outputs": [
    {
     "name": "stdout",
     "output_type": "stream",
     "text": [
      "Welcome to my computer quiz!!!\n",
      "Do you want to play? (yes/no) yes\n",
      "Okey!!Let's play!!!\n",
      "What does CPU stand for? cpu\n",
      "Incorrect!\n",
      "What does GPU stand for? graphics processing unit\n",
      "Correct!\n",
      "What does RAM stand for? random access memory\n",
      "Correct!\n",
      "What does PSU stand for? power supply\n",
      "Correct!\n",
      "You have done 3 correct answer out of 4.\n",
      "Your correct answer percentage is 75.0%\n"
     ]
    }
   ],
   "source": [
    "print(\"Welcome to my computer quiz!!!\")\n",
    "\n",
    "is_play = input(\"Do you want to play? (yes/no) \").lower()\n",
    "if is_play == \"yes\":\n",
    "    print(\"Okey!!Let's play!!!\")\n",
    "else:\n",
    "    print(\"Thank you!Good bye!!!\")\n",
    "    quit()\n",
    "    \n",
    "score = 0\n",
    "answer = input(\"What does CPU stand for? \").lower()\n",
    "if answer == \"center processing unit\":\n",
    "    print(\"Correct!\")\n",
    "    score += 1\n",
    "else:\n",
    "    print(\"Incorrect!\")\n",
    "    \n",
    "answer = input(\"What does GPU stand for? \").lower()\n",
    "if answer == \"graphics processing unit\":\n",
    "    print(\"Correct!\")\n",
    "    score += 1\n",
    "else:\n",
    "    print(\"Incorrect!\")\n",
    "    \n",
    "answer = input(\"What does RAM stand for? \").lower()\n",
    "if answer == \"random access memory\":\n",
    "    print(\"Correct!\")\n",
    "    score += 1\n",
    "else:\n",
    "    print(\"Incorrect!\")\n",
    "    \n",
    "answer = input(\"What does PSU stand for? \").lower()\n",
    "if answer == \"power supply\":\n",
    "    print(\"Correct!\")\n",
    "    score += 1\n",
    "else:\n",
    "    print(\"Incorrect!\")\n",
    "    \n",
    "print(f\"You have done {score} correct answer out of 4.\")\n",
    "print(f\"Your correct answer percentage is {(score / 4) * 100}%\")"
   ]
  },
  {
   "cell_type": "code",
   "execution_count": null,
   "metadata": {},
   "outputs": [],
   "source": []
  }
 ],
 "metadata": {
  "kernelspec": {
   "display_name": "Python 3",
   "language": "python",
   "name": "python3"
  },
  "language_info": {
   "codemirror_mode": {
    "name": "ipython",
    "version": 3
   },
   "file_extension": ".py",
   "mimetype": "text/x-python",
   "name": "python",
   "nbconvert_exporter": "python",
   "pygments_lexer": "ipython3",
   "version": "3.8.5"
  }
 },
 "nbformat": 4,
 "nbformat_minor": 4
}
