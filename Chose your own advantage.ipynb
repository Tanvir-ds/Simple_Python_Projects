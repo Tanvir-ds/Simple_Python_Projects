{
 "cells": [
  {
   "cell_type": "code",
   "execution_count": 3,
   "metadata": {},
   "outputs": [
    {
     "name": "stdout",
     "output_type": "stream",
     "text": [
      "This is my first game.\n",
      "What is your name : Tanvir\n",
      "What is your age: 34\n",
      "you are allowed to play...\n",
      "Do you want to play...Yes or No (Yes/No): yes\n",
      "You are starting with 10 health.\n",
      "Let's play!!!!\n",
      "Choice one...Right or Left (Right/Left): right\n",
      "Okey!You follow the path and reach near a lack...Do you swim to cross the lack or take a boat (Swim/Boat)boat\n",
      "You manage to cross the lack...\n",
      "You will see a deep infinity sea and a house..Where do you want to go? (deep sea/house) house\n",
      "You go to house,and the house owner beat you,because he don't like you.\n",
      "You have survived and you won...\n"
     ]
    }
   ],
   "source": [
    "print(\"This is my first game.\")\n",
    "name = input(\"What is your name : \")\n",
    "age = int(input(\"What is your age: \"))\n",
    "health = 10\n",
    "if age >= 18:\n",
    "    print(\"You are allowed to play...\")\n",
    "    want_to_play = input(\"Do you want to play...Yes or No (Yes/No): \").lower()\n",
    "    if want_to_play == \"yes\":\n",
    "        print(f\"You are starting with {health} health.\")\n",
    "        print(\"Let's play!!!!\")\n",
    "        left_or_right = input(\"Choice one...Right or Left (Right/Left): \").lower()\n",
    "        if left_or_right == \"right\":\n",
    "            ans = input(\"Okey!You follow the path and reach near a lack...Do you swim to cross the lack or take a boat (Swim/Boat)\").lower()\n",
    "            if ans == \"boat\":\n",
    "                print(\"You manage to cross the lack...\")\n",
    "            else:\n",
    "                print(\"You manage to cross the lack,but you are beatten by the shark...\")\n",
    "                health -= 5\n",
    "            ans = input(\"You will see a deep infinity sea and a house..Where do you want to go? (deep sea/house) \").lower()\n",
    "            if ans == \"house\":\n",
    "                print(\"You go to house,and the house owner beat you,because he don't like you.\")\n",
    "                health -= 5\n",
    "                if health <=0:\n",
    "                    print(\"You have now 0 health and you lost...\")\n",
    "                else:\n",
    "                    print(\"You have survived and you won...\")\n",
    "            else:\n",
    "                print(\"You fell down a deep infinity sea and lost..\")\n",
    "        else:\n",
    "            print(\"You fell down and lost!!!\")\n",
    "    \n",
    "    else:\n",
    "        print(\"Thank you.Byee...\")\n",
    "else:\n",
    "    print(\"You are not allowed to play...\")"
   ]
  },
  {
   "cell_type": "code",
   "execution_count": null,
   "metadata": {},
   "outputs": [],
   "source": []
  }
 ],
 "metadata": {
  "kernelspec": {
   "display_name": "Python 3",
   "language": "python",
   "name": "python3"
  },
  "language_info": {
   "codemirror_mode": {
    "name": "ipython",
    "version": 3
   },
   "file_extension": ".py",
   "mimetype": "text/x-python",
   "name": "python",
   "nbconvert_exporter": "python",
   "pygments_lexer": "ipython3",
   "version": "3.8.5"
  }
 },
 "nbformat": 4,
 "nbformat_minor": 4
}
