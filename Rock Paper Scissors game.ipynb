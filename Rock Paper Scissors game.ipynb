{
 "cells": [
  {
   "cell_type": "code",
   "execution_count": 4,
   "metadata": {},
   "outputs": [
    {
     "name": "stdout",
     "output_type": "stream",
     "text": [
      "Rock/Paper/Scissors game..\n",
      "Type Rock/Paper/Scissors or Q for quit: rock\n",
      "Computer picked paper.\n",
      "You have lost!\n",
      "Type Rock/Paper/Scissors or Q for quit: paper\n",
      "Computer picked paper.\n",
      "You have won!\n",
      "Type Rock/Paper/Scissors or Q for quit: scissors\n",
      "Computer picked paper.\n",
      "You have lost!\n",
      "Type Rock/Paper/Scissors or Q for quit: rock\n",
      "Computer picked rock.\n",
      "You have won!\n",
      "Type Rock/Paper/Scissors or Q for quit: paper\n",
      "Computer picked rock.\n",
      "You have lost!\n",
      "Type Rock/Paper/Scissors or Q for quit: g\n",
      "Type Rock/Paper/Scissors or Q for quit: q\n",
      "You have won 2 times.\n",
      "Computer has won 3 times.\n",
      "GoodBye!\n"
     ]
    }
   ],
   "source": [
    "print(\"Rock/Paper/Scissors game..\")\n",
    "import random\n",
    "user_wins = 0\n",
    "computer_wins = 0\n",
    "options = ['rock','paper','scissors']\n",
    "\n",
    "while True:\n",
    "    user_input = input(\"Type Rock/Paper/Scissors or Q for quit: \").lower()\n",
    "    if user_input == 'q':\n",
    "        break\n",
    "    elif user_input not in options:\n",
    "        continue\n",
    "        \n",
    "    random_number = random.randint(0,2)\n",
    "    computer_pick = options[random_number]\n",
    "    print(f\"Computer picked {computer_pick}.\")\n",
    "    \n",
    "    if user_input == \"rock\" and computer_pick == \"rock\":\n",
    "        print(\"You have won!\")\n",
    "        user_wins += 1\n",
    "    elif user_input == \"paper\" and computer_pick == \"paper\":\n",
    "        print(\"You have won!\")\n",
    "        user_wins += 1\n",
    "    elif user_input == \"scissors\" and computer_pick == \"scissors\":\n",
    "        print(\"You have won!\")\n",
    "        user_wins += 1\n",
    "    else:\n",
    "        print(\"You have lost!\")\n",
    "        computer_wins += 1\n",
    "        \n",
    "   \n",
    "print(f\"You have won {user_wins} times.\")\n",
    "print(f\"Computer has won {computer_wins} times.\")\n",
    "print(\"GoodBye!\")"
   ]
  },
  {
   "cell_type": "code",
   "execution_count": null,
   "metadata": {},
   "outputs": [],
   "source": []
  }
 ],
 "metadata": {
  "kernelspec": {
   "display_name": "Python 3",
   "language": "python",
   "name": "python3"
  },
  "language_info": {
   "codemirror_mode": {
    "name": "ipython",
    "version": 3
   },
   "file_extension": ".py",
   "mimetype": "text/x-python",
   "name": "python",
   "nbconvert_exporter": "python",
   "pygments_lexer": "ipython3",
   "version": "3.8.5"
  }
 },
 "nbformat": 4,
 "nbformat_minor": 4
}
